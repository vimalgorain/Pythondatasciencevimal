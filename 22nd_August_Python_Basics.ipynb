{
 "cells": [
  {
   "cell_type": "code",
   "execution_count": 1,
   "id": "f7a05a55-7883-42a6-af20-a9ca1133102b",
   "metadata": {},
   "outputs": [],
   "source": [
    "#Python basic variable \n",
    "# Q1 Swapping two number without using third variable\n",
    "X = 10\n",
    "Y = 20\n",
    "X = X+Y\n",
    "Y = X-Y\n",
    "X = X-Y"
   ]
  },
  {
   "cell_type": "code",
   "execution_count": 4,
   "id": "4c9be2e0-9bbe-488c-b943-44192a42adde",
   "metadata": {},
   "outputs": [
    {
     "data": {
      "text/plain": [
       "20"
      ]
     },
     "execution_count": 4,
     "metadata": {},
     "output_type": "execute_result"
    }
   ],
   "source": [
    "X"
   ]
  },
  {
   "cell_type": "code",
   "execution_count": 5,
   "id": "98099d2b-d38b-49c6-9f0a-14b359b256fc",
   "metadata": {},
   "outputs": [
    {
     "data": {
      "text/plain": [
       "10"
      ]
     },
     "execution_count": 5,
     "metadata": {},
     "output_type": "execute_result"
    }
   ],
   "source": [
    "Y"
   ]
  },
  {
   "cell_type": "code",
   "execution_count": 3,
   "id": "8a8c5ebc-464b-4c81-ae0c-05ad83bd98a5",
   "metadata": {},
   "outputs": [
    {
     "name": "stdin",
     "output_type": "stream",
     "text": [
      "length 30\n",
      "bratdth 20\n"
     ]
    },
    {
     "name": "stdout",
     "output_type": "stream",
     "text": [
      "area of rectangle: 600\n"
     ]
    }
   ],
   "source": [
    "#Q2 Calculate area of rectangle\n",
    "n = int(input(\"length\"))\n",
    "\n",
    "m = int(input(\"bratdth\"))\n",
    "\n",
    "area  = n*m\n",
    "print(\"area of rectangle:\",area)\n",
    "\n",
    "\n",
    "\n",
    "\n",
    "\n",
    "\n"
   ]
  },
  {
   "cell_type": "code",
   "execution_count": 4,
   "id": "ef3251a6-53fc-4f54-b808-f4c5962650b6",
   "metadata": {},
   "outputs": [
    {
     "name": "stdin",
     "output_type": "stream",
     "text": [
      "temperature in celsius 30.6\n"
     ]
    },
    {
     "name": "stdout",
     "output_type": "stream",
     "text": [
      "temperature in Fahrenheit: 87.08000000000001\n"
     ]
    }
   ],
   "source": [
    "#Q3 convert temperature to celsius to fahrenheit\n",
    "Celcius = float(input(\"temperature in celsius\"))\n",
    "                \n",
    "fahrenheit = Celcius*9/5+32\n",
    "print(\"temperature in Fahrenheit:\",fahrenheit)\n",
    "\n",
    "\n"
   ]
  },
  {
   "cell_type": "code",
   "execution_count": null,
   "id": "590afb44-37f0-4974-8d9d-ae987d7f0abb",
   "metadata": {},
   "outputs": [],
   "source": []
  },
  {
   "cell_type": "code",
   "execution_count": 6,
   "id": "caf1a42e-523e-4c43-a3f4-f78885f79371",
   "metadata": {},
   "outputs": [
    {
     "name": "stdin",
     "output_type": "stream",
     "text": [
      "input string: vimal\n"
     ]
    },
    {
     "name": "stdout",
     "output_type": "stream",
     "text": [
      "5\n"
     ]
    }
   ],
   "source": [
    "#String based questions\n",
    "#Q1 Take string as input and  print the length\n",
    "\n",
    "s = str(input(\"input string:\"))\n",
    "print(len(s))\n",
    "\n",
    "\n"
   ]
  },
  {
   "cell_type": "code",
   "execution_count": 43,
   "id": "0241ce08-39c8-41d6-a3c6-c5a6c1bcf627",
   "metadata": {},
   "outputs": [
    {
     "name": "stdin",
     "output_type": "stream",
     "text": [
      "enter the sentence: MY name IS VImal\n"
     ]
    },
    {
     "name": "stdout",
     "output_type": "stream",
     "text": [
      "my name is vimal\n",
      "the number of vowel is: 5\n"
     ]
    }
   ],
   "source": [
    "#Q2 Taking sentence as an input and counting the vowels\n",
    "S1 = str(input(\"enter the sentence:\"))\n",
    "S2 = S1.lower()\n",
    "print(S2) \n",
    "S3 = \"aeiou\"\n",
    "count = 0\n",
    "for i in S2:   \n",
    "    if i in S3:\n",
    "        count = count + 1    \n",
    "print(\"the number of vowel is:\",count)\n",
    "    "
   ]
  },
  {
   "cell_type": "code",
   "execution_count": 45,
   "id": "de547646-fba0-44cb-99c6-09cf19ceadbf",
   "metadata": {},
   "outputs": [
    {
     "name": "stdout",
     "output_type": "stream",
     "text": [
      "lamiv si eman yM\n"
     ]
    }
   ],
   "source": [
    "#Q3 Printing the reverse string \n",
    "S4 = \"My name is vimal\"\n",
    "S5 = S4[ : :-1]\n",
    "print(S5)"
   ]
  },
  {
   "cell_type": "code",
   "execution_count": 50,
   "id": "f0a4b0ff-5114-4ee1-bc67-aec65865f86a",
   "metadata": {},
   "outputs": [
    {
     "name": "stdin",
     "output_type": "stream",
     "text": [
      "enter a string: madam\n"
     ]
    },
    {
     "name": "stdout",
     "output_type": "stream",
     "text": [
      "madam is a palindrome\n"
     ]
    }
   ],
   "source": [
    "#Q4 checking input string is palindrome or not\n",
    "S6 = str(input(\"enter a string:\"))\n",
    "S7 = S6[ : :-1]\n",
    "if S6 == S7:\n",
    "    print(S6,\"is a palindrome\")\n",
    "else:\n",
    "    print(S6,\"is not a palindrome\")\n",
    "\n",
    "    \n",
    "\n"
   ]
  },
  {
   "cell_type": "code",
   "execution_count": 1,
   "id": "99e5557e-6774-469d-b4b5-5818b9df244a",
   "metadata": {},
   "outputs": [
    {
     "name": "stdin",
     "output_type": "stream",
     "text": [
      "enter the string: my name is vimal\n"
     ]
    },
    {
     "name": "stdout",
     "output_type": "stream",
     "text": [
      "mynameisvimal\n"
     ]
    }
   ],
   "source": [
    "#Q5 remove all the spaces and print the string\n",
    "\n",
    "S8 = str(input(\"enter the string:\"))\n",
    "         \n",
    "S9 = S8.replace(\" \",\"\")\n",
    "\n",
    "print(S9)\n",
    "\n",
    "    \n",
    "         \n",
    "         \n",
    "         "
   ]
  },
  {
   "cell_type": "code",
   "execution_count": null,
   "id": "12c86150-fc92-4d24-84d9-bf16dfeae0f6",
   "metadata": {},
   "outputs": [],
   "source": []
  }
 ],
 "metadata": {
  "kernelspec": {
   "display_name": "Python 3 (ipykernel)",
   "language": "python",
   "name": "python3"
  },
  "language_info": {
   "codemirror_mode": {
    "name": "ipython",
    "version": 3
   },
   "file_extension": ".py",
   "mimetype": "text/x-python",
   "name": "python",
   "nbconvert_exporter": "python",
   "pygments_lexer": "ipython3",
   "version": "3.10.8"
  }
 },
 "nbformat": 4,
 "nbformat_minor": 5
}
